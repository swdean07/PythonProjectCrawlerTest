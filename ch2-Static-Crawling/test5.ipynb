{
 "cells": [
  {
   "cell_type": "code",
   "id": "initial_id",
   "metadata": {
    "collapsed": true,
    "ExecuteTime": {
     "end_time": "2025-02-20T02:07:49.297150Z",
     "start_time": "2025-02-20T02:07:49.292001Z"
    }
   },
   "source": [
    "import csv\n",
    "import time\n",
    "import datetime\n",
    "import bs4\n",
    "import urllib.request\n",
    "\n",
    "with open(r'./busan_weather_20250220.csv', 'w',\n",
    "newline='',encoding=\"UTF-8\") as csvFp:\n",
    "    csvWriter = csv.writer(csvFp)\n",
    "    csvWriter.writerow(['연월일','시분초','온도','습도','강수량','풍향'])\n",
    "\n",
    "nateUrl = \"https://news.nate.com/weather?areaCode=11H20201\""
   ],
   "outputs": [],
   "execution_count": 2
  },
  {
   "metadata": {
    "ExecuteTime": {
     "end_time": "2025-02-20T02:12:39.619479Z",
     "start_time": "2025-02-20T02:12:39.420620Z"
    }
   },
   "cell_type": "code",
   "source": [
    "htmlObject = urllib.request.urlopen(nateUrl)\n",
    "webPage = htmlObject.read()\n",
    "bsObject = bs4.BeautifulSoup(webPage, 'html.parser')\n",
    "tag = bsObject.find('div',{'class': 'right_today'})\n",
    "print(tag)\n",
    "temper = tag.find('p',{'class': 'celsius'}).text\n",
    "print(temper)\n",
    "humi = tag.find('p',{'class': 'humidity'}).text\n",
    "print(humi)\n",
    "rain = tag.find('p',{'class': 'rainfall'}).text\n",
    "print(rain)\n",
    "wind = tag.find('p',{'class': 'wind'}).text\n",
    "print(wind)"
   ],
   "id": "d71aea634849e5c3",
   "outputs": [
    {
     "name": "stdout",
     "output_type": "stream",
     "text": [
      "<div class=\"right_today\">\n",
      "<div class=\"temperature\">\n",
      "<p class=\"celsius\">1<span class=\"hide\">℃</span></p><!-- minus일경우 클래스 추가 -->\n",
      "<p class=\"min_max\">\n",
      "<span class=\"maximum\">최고 7℃</span>\n",
      "<span class=\"minimum\">최저 -3℃</span>\n",
      "</p>\n",
      "</div>\n",
      "<p class=\"comparison\">\n",
      "<span class=\"same\">\n",
      "<em class=\"hide\">어제보다</em></span><!-- 어제와같음클래스:same, 기본:클래스없음 -->\n",
      "<!-- 클래스없음 기본 plus 노란색 --></p>\n",
      "<div class=\"hrw_area\"><!-- lv1: 0~34%, lv2:35~70%, lv3:80~100% -->\n",
      "<p class=\"humidity\"><span><span class=\"hide\">습도</span></span><em>25%</em></p>\n",
      "<p class=\"rainfall\"><span><span class=\"hide\">강수량</span></span><em>0mm</em></p> <p class=\"wind\"><span><span class=\"hide\">풍향</span></span><em> 서 2.4 m/s</em></p>\n",
      "</div>\n",
      "</div>\n",
      "1℃\n",
      "습도25%\n",
      "강수량0mm\n",
      "풍향 서 2.4 m/s\n"
     ]
    }
   ],
   "execution_count": 9
  },
  {
   "metadata": {
    "ExecuteTime": {
     "end_time": "2025-02-20T02:19:24.254769Z",
     "start_time": "2025-02-20T02:18:51.864532Z"
    }
   },
   "cell_type": "code",
   "source": [
    "while True:\n",
    "    now = datetime.datetime.now()\n",
    "    yymmdd = now.strftime(\"%Y-%m-%d\")\n",
    "    hhmmss = now.strftime(\"%H:%M:%S\")\n",
    "\n",
    "    weather_list = [yymmdd, hhmmss, temper, humi, rain, wind]\n",
    "    with open(r'./busan_weather_20250220.csv',\"a\",newline='',encoding=\"UTF-8\") as csvFp:\n",
    "        csvWriter = csv.writer(csvFp)\n",
    "        csvWriter.writerow(weather_list)\n",
    "        print(weather_list)\n",
    "    time.sleep(1)"
   ],
   "id": "19815bed45bae266",
   "outputs": [
    {
     "name": "stdout",
     "output_type": "stream",
     "text": [
      "['2025-02-20', '11:18:51', '1℃', '습도25%', '강수량0mm', '풍향 서 2.4 m/s']\n",
      "['2025-02-20', '11:18:52', '1℃', '습도25%', '강수량0mm', '풍향 서 2.4 m/s']\n",
      "['2025-02-20', '11:18:53', '1℃', '습도25%', '강수량0mm', '풍향 서 2.4 m/s']\n",
      "['2025-02-20', '11:18:54', '1℃', '습도25%', '강수량0mm', '풍향 서 2.4 m/s']\n",
      "['2025-02-20', '11:18:55', '1℃', '습도25%', '강수량0mm', '풍향 서 2.4 m/s']\n",
      "['2025-02-20', '11:18:56', '1℃', '습도25%', '강수량0mm', '풍향 서 2.4 m/s']\n",
      "['2025-02-20', '11:18:57', '1℃', '습도25%', '강수량0mm', '풍향 서 2.4 m/s']\n",
      "['2025-02-20', '11:18:58', '1℃', '습도25%', '강수량0mm', '풍향 서 2.4 m/s']\n",
      "['2025-02-20', '11:18:59', '1℃', '습도25%', '강수량0mm', '풍향 서 2.4 m/s']\n",
      "['2025-02-20', '11:19:00', '1℃', '습도25%', '강수량0mm', '풍향 서 2.4 m/s']\n",
      "['2025-02-20', '11:19:01', '1℃', '습도25%', '강수량0mm', '풍향 서 2.4 m/s']\n",
      "['2025-02-20', '11:19:02', '1℃', '습도25%', '강수량0mm', '풍향 서 2.4 m/s']\n",
      "['2025-02-20', '11:19:03', '1℃', '습도25%', '강수량0mm', '풍향 서 2.4 m/s']\n",
      "['2025-02-20', '11:19:04', '1℃', '습도25%', '강수량0mm', '풍향 서 2.4 m/s']\n",
      "['2025-02-20', '11:19:05', '1℃', '습도25%', '강수량0mm', '풍향 서 2.4 m/s']\n",
      "['2025-02-20', '11:19:06', '1℃', '습도25%', '강수량0mm', '풍향 서 2.4 m/s']\n",
      "['2025-02-20', '11:19:07', '1℃', '습도25%', '강수량0mm', '풍향 서 2.4 m/s']\n",
      "['2025-02-20', '11:19:08', '1℃', '습도25%', '강수량0mm', '풍향 서 2.4 m/s']\n",
      "['2025-02-20', '11:19:09', '1℃', '습도25%', '강수량0mm', '풍향 서 2.4 m/s']\n",
      "['2025-02-20', '11:19:10', '1℃', '습도25%', '강수량0mm', '풍향 서 2.4 m/s']\n",
      "['2025-02-20', '11:19:11', '1℃', '습도25%', '강수량0mm', '풍향 서 2.4 m/s']\n",
      "['2025-02-20', '11:19:12', '1℃', '습도25%', '강수량0mm', '풍향 서 2.4 m/s']\n",
      "['2025-02-20', '11:19:13', '1℃', '습도25%', '강수량0mm', '풍향 서 2.4 m/s']\n",
      "['2025-02-20', '11:19:14', '1℃', '습도25%', '강수량0mm', '풍향 서 2.4 m/s']\n",
      "['2025-02-20', '11:19:15', '1℃', '습도25%', '강수량0mm', '풍향 서 2.4 m/s']\n",
      "['2025-02-20', '11:19:16', '1℃', '습도25%', '강수량0mm', '풍향 서 2.4 m/s']\n",
      "['2025-02-20', '11:19:17', '1℃', '습도25%', '강수량0mm', '풍향 서 2.4 m/s']\n",
      "['2025-02-20', '11:19:18', '1℃', '습도25%', '강수량0mm', '풍향 서 2.4 m/s']\n",
      "['2025-02-20', '11:19:19', '1℃', '습도25%', '강수량0mm', '풍향 서 2.4 m/s']\n",
      "['2025-02-20', '11:19:20', '1℃', '습도25%', '강수량0mm', '풍향 서 2.4 m/s']\n",
      "['2025-02-20', '11:19:21', '1℃', '습도25%', '강수량0mm', '풍향 서 2.4 m/s']\n",
      "['2025-02-20', '11:19:22', '1℃', '습도25%', '강수량0mm', '풍향 서 2.4 m/s']\n"
     ]
    },
    {
     "ename": "KeyboardInterrupt",
     "evalue": "",
     "output_type": "error",
     "traceback": [
      "\u001B[1;31m---------------------------------------------------------------------------\u001B[0m",
      "\u001B[1;31mKeyboardInterrupt\u001B[0m                         Traceback (most recent call last)",
      "Cell \u001B[1;32mIn[10], line 11\u001B[0m\n\u001B[0;32m      9\u001B[0m     csvWriter\u001B[38;5;241m.\u001B[39mwriterow(weather_list)\n\u001B[0;32m     10\u001B[0m     \u001B[38;5;28mprint\u001B[39m(weather_list)\n\u001B[1;32m---> 11\u001B[0m \u001B[43mtime\u001B[49m\u001B[38;5;241;43m.\u001B[39;49m\u001B[43msleep\u001B[49m\u001B[43m(\u001B[49m\u001B[38;5;241;43m1\u001B[39;49m\u001B[43m)\u001B[49m\n",
      "\u001B[1;31mKeyboardInterrupt\u001B[0m: "
     ]
    }
   ],
   "execution_count": 10
  }
 ],
 "metadata": {
  "kernelspec": {
   "display_name": "Python 3",
   "language": "python",
   "name": "python3"
  },
  "language_info": {
   "codemirror_mode": {
    "name": "ipython",
    "version": 2
   },
   "file_extension": ".py",
   "mimetype": "text/x-python",
   "name": "python",
   "nbconvert_exporter": "python",
   "pygments_lexer": "ipython2",
   "version": "2.7.6"
  }
 },
 "nbformat": 4,
 "nbformat_minor": 5
}

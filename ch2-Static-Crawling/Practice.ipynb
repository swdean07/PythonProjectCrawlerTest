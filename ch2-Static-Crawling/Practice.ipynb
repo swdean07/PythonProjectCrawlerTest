{
 "cells": [
  {
   "metadata": {
    "ExecuteTime": {
     "end_time": "2025-02-20T07:43:54.671913Z",
     "start_time": "2025-02-20T07:43:54.668220Z"
    }
   },
   "cell_type": "code",
   "source": [
    "# #빅데이터_수집_저장 #미니실습,\n",
    "# 정적 크롤링,\n",
    "# 관심 있는 사이트에가서,\n",
    "#\n",
    "# 1) 해당 사이트 주소/robots.txt\n",
    "# 확인해서, 허용 가능한지 여부 판단.\n",
    "#\n",
    "# 2) 해당 사이트 구조,\n",
    "# 리액트 처럼, 특정의 함수등을 호출해서,\n",
    "# 데이터를 받아서 출력이면,\n",
    "# 수집 할 데이터가, 화면에서, 페이지 소스 보기를 했을 경우,\n",
    "# 해당 데이터가 정적으로 존재해야 수집 가능.\n",
    "#\n",
    "# 3) 3가지 이상의 데이터를 수집\n",
    "# -(메모리)\n",
    "# - json\n",
    "# - csv\n",
    "# - 데이터베이스 저장."
   ],
   "id": "d812e05df6f49f2b",
   "outputs": [],
   "execution_count": 51
  },
  {
   "metadata": {
    "ExecuteTime": {
     "end_time": "2025-02-20T08:27:35.860642Z",
     "start_time": "2025-02-20T08:27:35.115993Z"
    }
   },
   "cell_type": "code",
   "source": [
    "import re\n",
    "\n",
    "import bs4\n",
    "import urllib.request\n",
    "import csv\n",
    "import json\n",
    "import pymysql\n",
    "wikipediaUrl = \"https://en.wikipedia.org/wiki/78th_British_Academy_Film_Awards\"\n",
    "req = urllib.request.Request(wikipediaUrl, headers={\"User-Agent\": \"Mozilla/5.0\"})\n",
    "htmlObject = urllib.request.urlopen(wikipediaUrl)\n",
    "webPage = htmlObject.read()\n",
    "bsObject = bs4.BeautifulSoup(webPage, 'html.parser')\n",
    "\n",
    "#전체 페이지 텍스트 저장\n",
    "full_text = bsObject.get_text(separator=\"\\n\",strip=True)\n",
    "\n",
    "#전체 텍스트를 파일로 저장\n",
    "text_filename = \"wikipedia_full_text.txt\"\n",
    "with open(text_filename, \"w\", encoding=\"utf-8\") as text_file:\n",
    "    text_file.write(full_text)\n",
    "\n",
    "print(f\"📄 전체 페이지 텍스트가 {text_filename}에 저장되었습니다.\")\n",
    "\n",
    "#페이지 제목 추출\n",
    "page_title = bsObject.find(\"h1\", {\"id\": \"firstHeading\"}).text.strip()\n",
    "print(\"page_title:\", page_title)\n",
    "\n",
    "#위키테이블 데이터 추출\n",
    "wikitable_list = bsObject.find_all(\"table\", {\"class\": \"wikitable\"})\n",
    "print(f\"Found {len(wikitable_list)} wikitable(s)\")"
   ],
   "id": "56e1f768c067861c",
   "outputs": [
    {
     "name": "stdout",
     "output_type": "stream",
     "text": [
      "📄 전체 페이지 텍스트가 wikipedia_full_text.txt에 저장되었습니다.\n",
      "page_title: 78th British Academy Film Awards\n",
      "Found 3 wikitable(s)\n"
     ]
    }
   ],
   "execution_count": 74
  },
  {
   "metadata": {
    "ExecuteTime": {
     "end_time": "2025-02-20T08:27:41.072257Z",
     "start_time": "2025-02-20T08:27:41.059128Z"
    }
   },
   "cell_type": "code",
   "source": [
    "#결과를 저장할 딕셔너리(JSON 저장용)\n",
    "tables_data ={}\n",
    "\n",
    "#CSV, JSON, DB에 저장을 위한 각 테이블 처리\n",
    "for table_index, table in enumerate(wikitable_list, start=1):\n",
    "    table_data = []\n",
    "    rows = table.find_all(\"tr\")\n",
    "\n",
    "    for row in rows:\n",
    "        cells = row.find_all([\"th\", \"td\"])\n",
    "        row_data = [cell.get_text(strip=True) for cell in cells]\n",
    "        table_data.append(row_data)\n",
    "\n",
    "    #CSV 파일로 저장(테이블 번호별 파일 생성)\n",
    "    csv_filename = f\"wikitable_{table_index}.csv\"\n",
    "    with open(csv_filename, \"w\", encoding=\"utf-8\") as csv_file:\n",
    "        writer = csv.writer(csv_file)\n",
    "        writer.writerows(table_data)\n",
    "    print(f\"📁 Table {table_index} 데이터가 {csv_filename}에 저장되었습니다.\")\n",
    "\n",
    "    #JSON 저장용 딕셔너리에 추가\n",
    "    tables_data[f\"table_{table_index}\"] = table_data\n",
    "\n",
    "#JSON 파일에 저장(모든 테이블 데이터)\n",
    "json_filename = \"wikitable_data.json\"\n",
    "with open(json_filename, \"w\", encoding=\"utf-8\") as json_file:\n",
    "    json.dump(tables_data, json_file, ensure_ascii=False, indent=4)\n",
    "print(f\"📂 모든 테이블 데이터가 {json_filename}에 저장되었습니다.\")"
   ],
   "id": "dc08bd32d4dfb56",
   "outputs": [
    {
     "name": "stdout",
     "output_type": "stream",
     "text": [
      "📁 Table 1 데이터가 wikitable_1.csv에 저장되었습니다.\n",
      "📁 Table 2 데이터가 wikitable_2.csv에 저장되었습니다.\n",
      "📁 Table 3 데이터가 wikitable_3.csv에 저장되었습니다.\n",
      "📂 모든 테이블 데이터가 wikitable_data.json에 저장되었습니다.\n"
     ]
    }
   ],
   "execution_count": 76
  },
  {
   "metadata": {
    "ExecuteTime": {
     "end_time": "2025-02-20T08:27:44.339551Z",
     "start_time": "2025-02-20T08:27:44.324032Z"
    }
   },
   "cell_type": "code",
   "source": [
    "# db 연결 작업,\n",
    "db = pymysql.connect(host=\"localhost\", user=\"webuser\", passwd=\"webuser\", db=\"webdb\",charset=\"utf8mb4\")\n",
    "cursor = db.cursor()\n",
    "\n",
    "def is_safe_name(name):\n",
    "    return bool(re.match(r'^[A-Za-z0-9_]+$', name))\n",
    "\n",
    "try:\n",
    "    # 테이블 별 데이터 저장\n",
    "    for table_name, table_data in tables_data.items():\n",
    "        if not table_data:\n",
    "            continue\n",
    "\n",
    "        if not is_safe_name(table_name):\n",
    "            print(f\"테이블 이름 '{table_name}'이 유효하지 않습니다.\")\n",
    "            continue\n",
    "\n",
    "        header = table_data[0]\n",
    "        num_columns = len(header)\n",
    "\n",
    "        for column in header:\n",
    "            if not is_safe_name(column):\n",
    "                print(f\"컬럼 이름 '{column}'이 유효하지 않습니다.\")\n",
    "                continue\n",
    "\n",
    "    # 7. 변경 사항 저장 (commit)\n",
    "    db.commit()\n",
    "    print(\"✅ MySQL 데이터베이스에 데이터 저장 완료!\")\n",
    "\n",
    "except Exception as e:\n",
    "    db.rollback()  # 오류 발생 시 롤백\n",
    "    print(f\"❌ DB 저장 실패: {e}\")\n",
    "\n",
    "finally:\n",
    "    cursor.close()\n",
    "    db.close()  # 연결 종료\n"
   ],
   "id": "e88f17610e3a7bb4",
   "outputs": [
    {
     "name": "stdout",
     "output_type": "stream",
     "text": [
      "컬럼 이름 'Best FilmConclave–Tessa Ross, Juliette Howell, and Michael A. JackmanAnora– Alex Coco,Samantha Quan, andSean BakerThe Brutalist– Nick Gordon, Brian Young, Andrew Morrison, D.J. Gugenheim, andBrady CorbetA Complete Unknown– Alex Heineman,Fred Berger, andJames MangoldEmilia Pérez– Pascal Caucheteux andJacques Audiard'이 유효하지 않습니다.\n",
      "컬럼 이름 'Best DirectorBrady Corbet–The BrutalistJacques Audiard–Emilia PérezSean Baker–AnoraEdward Berger–ConclaveCoralie Fargeat–The SubstanceDenis Villeneuve–Dune: Part Two'이 유효하지 않습니다.\n",
      "✅ MySQL 데이터베이스에 데이터 저장 완료!\n"
     ]
    }
   ],
   "execution_count": 77
  }
 ],
 "metadata": {
  "kernelspec": {
   "display_name": "Python 3",
   "language": "python",
   "name": "python3"
  },
  "language_info": {
   "codemirror_mode": {
    "name": "ipython",
    "version": 2
   },
   "file_extension": ".py",
   "mimetype": "text/x-python",
   "name": "python",
   "nbconvert_exporter": "python",
   "pygments_lexer": "ipython2",
   "version": "2.7.6"
  }
 },
 "nbformat": 4,
 "nbformat_minor": 5
}

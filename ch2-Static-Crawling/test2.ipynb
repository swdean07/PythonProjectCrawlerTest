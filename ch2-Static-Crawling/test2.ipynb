{
 "cells": [
  {
   "cell_type": "code",
   "id": "initial_id",
   "metadata": {
    "collapsed": true,
    "ExecuteTime": {
     "end_time": "2025-02-20T01:19:00.140241Z",
     "start_time": "2025-02-20T01:19:00.043660Z"
    }
   },
   "source": [
    "import bs4\n",
    "import urllib.request\n",
    "\n",
    "nateUrl =\"https://www.nate.com\"\n",
    "htmlObject = urllib.request.urlopen(nateUrl)\n",
    "webPage = htmlObject.read()\n",
    "bsObject = bs4.BeautifulSoup(webPage, \"html.parser\")\n",
    "\n",
    "tag = bsObject.find('div',{'id':'NateBi'})\n",
    "print(tag)\n"
   ],
   "outputs": [
    {
     "name": "stdout",
     "output_type": "stream",
     "text": [
      "<div class=\"area_bi\" id=\"NateBi\" role=\"banner\">\n",
      "<h1 class=\"bi\" title=\"네이트\"><a href=\"//www.nate.com/?f=bi\" onmousedown=\"nc('NBI01');\">네이트</a></h1>\n",
      "</div>\n"
     ]
    }
   ],
   "execution_count": 7
  },
  {
   "metadata": {
    "ExecuteTime": {
     "end_time": "2025-02-20T01:19:08.492827Z",
     "start_time": "2025-02-20T01:19:08.487862Z"
    }
   },
   "cell_type": "code",
   "source": [
    "a_tag = tag.find('a')\n",
    "print(a_tag)"
   ],
   "id": "3f720ad7942c6915",
   "outputs": [
    {
     "name": "stdout",
     "output_type": "stream",
     "text": [
      "<a href=\"//www.nate.com/?f=bi\" onmousedown=\"nc('NBI01');\">네이트</a>\n"
     ]
    }
   ],
   "execution_count": 8
  },
  {
   "metadata": {
    "ExecuteTime": {
     "end_time": "2025-02-20T01:19:17.298748Z",
     "start_time": "2025-02-20T01:19:17.295307Z"
    }
   },
   "cell_type": "code",
   "source": [
    "a_tag_href = a_tag['href']\n",
    "print(a_tag_href)"
   ],
   "id": "70eab96b0124b43",
   "outputs": [
    {
     "name": "stdout",
     "output_type": "stream",
     "text": [
      "//www.nate.com/?f=bi\n"
     ]
    }
   ],
   "execution_count": 9
  },
  {
   "metadata": {
    "ExecuteTime": {
     "end_time": "2025-02-20T01:19:24.899574Z",
     "start_time": "2025-02-20T01:19:24.895948Z"
    }
   },
   "cell_type": "code",
   "source": [
    "a_tag_text = a_tag.text\n",
    "print(a_tag_text)"
   ],
   "id": "83335ece0f552518",
   "outputs": [
    {
     "name": "stdout",
     "output_type": "stream",
     "text": [
      "네이트\n"
     ]
    }
   ],
   "execution_count": 10
  }
 ],
 "metadata": {
  "kernelspec": {
   "display_name": "Python 3",
   "language": "python",
   "name": "python3"
  },
  "language_info": {
   "codemirror_mode": {
    "name": "ipython",
    "version": 2
   },
   "file_extension": ".py",
   "mimetype": "text/x-python",
   "name": "python",
   "nbconvert_exporter": "python",
   "pygments_lexer": "ipython2",
   "version": "2.7.6"
  }
 },
 "nbformat": 4,
 "nbformat_minor": 5
}

{
 "cells": [
  {
   "cell_type": "code",
   "id": "initial_id",
   "metadata": {
    "collapsed": true,
    "ExecuteTime": {
     "end_time": "2025-02-21T00:42:20.272481Z",
     "start_time": "2025-02-21T00:42:14.661241Z"
    }
   },
   "source": [
    "#웹 드라이버 실행\n",
    "from selenium import webdriver\n",
    "from selenium.webdriver import ActionChains\n",
    "\n",
    "# Chrome 드라이버 실행\n",
    "driver = webdriver.Chrome()\n",
    "# 특정 URL 열기. 구글\n",
    "driver.get(\"http://www.google.com\")\n",
    "driver.quit()"
   ],
   "outputs": [],
   "execution_count": 12
  },
  {
   "metadata": {
    "ExecuteTime": {
     "end_time": "2025-02-21T00:42:25.238165Z",
     "start_time": "2025-02-21T00:42:22.027723Z"
    }
   },
   "cell_type": "code",
   "source": [
    "# 웹페이지 요소 찾기(find_element, find_elements)\n",
    "from selenium import webdriver\n",
    "driver = webdriver.Chrome()\n",
    "driver.get(\"http://www.google.com\")\n",
    "# 요소 찾기(name 속성 찾기)\n",
    "search_box= driver.find_element(\"name\",\"q\")\n",
    "print(search_box)\n",
    "# driver.quit()\n",
    "\n",
    "# 요소 여러 개 찾기(class 속성 찾기)\n",
    "links = driver.find_elements(\"tag name\",\"a\")\n",
    "print(len(links))"
   ],
   "id": "94f56945d3414d39",
   "outputs": [
    {
     "name": "stdout",
     "output_type": "stream",
     "text": [
      "<selenium.webdriver.remote.webelement.WebElement (session=\"f2f77b7816af911069549fa794d6d049\", element=\"f.8EE76720DA796C53944D1E60C7768F42.d.F9BB9D2BC22823B19040D66222DE314E.e.2\")>\n",
      "16\n"
     ]
    }
   ],
   "execution_count": 13
  },
  {
   "metadata": {
    "ExecuteTime": {
     "end_time": "2025-02-21T00:41:20.509464Z",
     "start_time": "2025-02-21T00:41:10.038445Z"
    }
   },
   "cell_type": "code",
   "source": [
    "from selenium import webdriver\n",
    "import time\n",
    "driver = webdriver.Chrome()\n",
    "driver.get(\"http://www.google.com\")\n",
    "\n",
    "# 암묵적 대기\n",
    "# driver.implicitly_wait(10)\n",
    "\n",
    "# 명시적 대기\n",
    "time.sleep(5)\n",
    "driver.quit()"
   ],
   "id": "b081bd49c40056c",
   "outputs": [],
   "execution_count": 10
  },
  {
   "metadata": {
    "ExecuteTime": {
     "end_time": "2025-02-21T00:45:02.170939Z",
     "start_time": "2025-02-21T00:44:53.629774Z"
    }
   },
   "cell_type": "code",
   "source": [
    "from selenium import webdriver\n",
    "import time\n",
    "driver = webdriver.Chrome()\n",
    "driver.get(\"http://www.google.com\")\n",
    "\n",
    "# 구글 이메일 버튼 클릭, Gmail\n",
    "button = driver.find_element(\"link text\", \"Gmail\")\n",
    "button.click()\n",
    "driver.quit()"
   ],
   "id": "8831559e43fc639b",
   "outputs": [],
   "execution_count": 15
  },
  {
   "metadata": {
    "ExecuteTime": {
     "end_time": "2025-02-21T00:50:24.800784Z",
     "start_time": "2025-02-21T00:50:13.539875Z"
    }
   },
   "cell_type": "code",
   "source": [
    "# 키보드 입력(send_keys())\n",
    "from selenium import webdriver\n",
    "import time\n",
    "from selenium.webdriver.common.keys import Keys\n",
    "\n",
    "driver = webdriver.Chrome()\n",
    "driver.get(\"http://www.google.com\")\n",
    "\n",
    "driver.implicitly_wait(10)\n",
    "\n",
    "search_box= driver.find_element(\"name\",\"q\")\n",
    "search_box.send_keys(\"날씨\")\n",
    "search_box.send_keys(Keys.RETURN)\n",
    "time.sleep(5)\n",
    "driver.quit()"
   ],
   "id": "b11c88815b34c5b1",
   "outputs": [],
   "execution_count": 16
  },
  {
   "metadata": {
    "ExecuteTime": {
     "end_time": "2025-02-21T01:04:49.774106Z",
     "start_time": "2025-02-21T01:04:38.016188Z"
    }
   },
   "cell_type": "code",
   "source": [
    "# 자바스크립트 실행(excute_script())\n",
    "from selenium import webdriver\n",
    "import time\n",
    "from selenium.webdriver.common.keys import Keys\n",
    "\n",
    "driver = webdriver.Chrome()\n",
    "driver.get(\"https://news.google.com\")\n",
    "\n",
    "time.sleep(3)\n",
    "# 페이지 맨 아래로 스크롤\n",
    "driver.execute_script(\"window.scrollTo(0, document.body.scrollHeight);\")\n",
    "time.sleep(3)\n",
    "driver.quit()"
   ],
   "id": "35d19101d4bf869",
   "outputs": [],
   "execution_count": 17
  },
  {
   "metadata": {
    "ExecuteTime": {
     "end_time": "2025-02-21T01:08:27.930061Z",
     "start_time": "2025-02-21T01:08:13.406460Z"
    }
   },
   "cell_type": "code",
   "source": [
    "# 새 창 열기 및 핸들 전환(window_handles)\n",
    "from selenium import webdriver\n",
    "import time\n",
    "from selenium.webdriver.common.keys import Keys\n",
    "\n",
    "driver = webdriver.Chrome()\n",
    "driver.get(\"https://www.google.com\")\n",
    "time.sleep(3)\n",
    "\n",
    "# 새 창 열기\n",
    "driver.execute_script(\"window.open('https://naver.com');\")\n",
    "time.sleep(3)\n",
    "\n",
    "# 창 핸들 가져오기\n",
    "windows = driver.window_handles\n",
    "driver.switch_to.window(windows[0])\n",
    "time.sleep(3)\n",
    "driver.quit()"
   ],
   "id": "41f2c40e4d528600",
   "outputs": [],
   "execution_count": 19
  },
  {
   "metadata": {
    "ExecuteTime": {
     "end_time": "2025-02-21T01:15:57.767949Z",
     "start_time": "2025-02-21T01:15:18.025346Z"
    }
   },
   "cell_type": "code",
   "source": [
    "# 프레임 전환(switch_to.frame())\n",
    "from selenium import webdriver\n",
    "import time\n",
    "from selenium.webdriver.common.keys import Keys\n",
    "\n",
    "driver = webdriver.Chrome()\n",
    "driver.get(\"https://www.w3schools.com/html/html_iframe.asp\")\n",
    "time.sleep(3)\n",
    "\n",
    "# 페이지 전환, iframe 안의 콘텐츠 로딩\n",
    "iframe = driver.find_element(\"css selector\", \"iframe[src*='default.asp']\")\n",
    "driver.switch_to.frame(iframe)\n",
    "\n",
    "# 프레임 내 요소 찾기\n",
    "element = driver.find_element(\"css selector\", \"h1\")\n",
    "print(element.text)\n",
    "time.sleep(3)\n",
    "driver.quit()"
   ],
   "id": "4951764cc3fd43bd",
   "outputs": [
    {
     "name": "stdout",
     "output_type": "stream",
     "text": [
      "HTML Tutorial\n"
     ]
    }
   ],
   "execution_count": 21
  },
  {
   "metadata": {
    "ExecuteTime": {
     "end_time": "2025-02-21T01:21:01.076864Z",
     "start_time": "2025-02-21T01:20:50.972363Z"
    }
   },
   "cell_type": "code",
   "source": [
    "# 쿠키 가져오기 및 설정\n",
    "from selenium import webdriver\n",
    "import time\n",
    "from selenium.webdriver.common.keys import Keys\n",
    "\n",
    "driver = webdriver.Chrome()\n",
    "driver.get(\"https://www.google.com\")\n",
    "time.sleep(3)\n",
    "\n",
    "# 기존 쿠키 출력\n",
    "# print(\"기존 쿠키:\")\n",
    "# print(driver.get_cookies())\n",
    "\n",
    "# 쿠키 추가\n",
    "driver.add_cookie({'name': 'swh', 'value': '아이스 아메리카노'})\n",
    "\n",
    "# 페이지 새로고침\n",
    "driver.refresh()\n",
    "time.sleep(3)\n",
    "\n",
    "#추가된 쿠키 확인.\n",
    "print(\"추가된 쿠키 확인\")\n",
    "cookies = driver.get_cookies()\n",
    "print(cookies)\n",
    "\n",
    "# 특정 쿠키 값만 출력 해보기\n",
    "for cookie in cookies:\n",
    "    if cookie['name'] == 'swh':\n",
    "        print(f\"추가된 값 : {cookie['value']}\")\n",
    "\n",
    "driver.close()"
   ],
   "id": "3c6913592dd8b11",
   "outputs": [
    {
     "name": "stdout",
     "output_type": "stream",
     "text": [
      "추가된 쿠키 확인\n",
      "[{'domain': 'www.google.com', 'httpOnly': False, 'name': 'swh', 'path': '/', 'sameSite': 'Lax', 'secure': True, 'value': '아이스 아메리카노'}, {'domain': '.google.com', 'expiry': 1742692853, 'httpOnly': False, 'name': 'OGPC', 'path': '/', 'sameSite': 'Lax', 'secure': False, 'value': '19046228-1:'}, {'domain': '.google.com', 'expiry': 1755912053, 'httpOnly': True, 'name': 'NID', 'path': '/', 'sameSite': 'None', 'secure': True, 'value': '521=FUhzef4mVIZ5HVllM1XVYCzHJVJsUDSgbpoGsVurA8YTDaMdliyPCx0_cZ3DBzZDCYJAttSedHBbSWhzWk1cmquJvPj_0UPfq-ZX5p804N92Set8kcEAwfmhTwQBInh6CH7O6cR3iZX088CpltmFkXSIg7uoQE5Ipwon7m7AQ4tH9F8QrUX7TuSpsa8lKm-T6btzTZvjIS82eo7Ii1CM0S4RH7dTyqw'}, {'domain': 'www.google.com', 'expiry': 1740122457, 'httpOnly': False, 'name': 'UULE', 'path': '/', 'sameSite': 'Lax', 'secure': True, 'value': 'a+cm9sZTogMQpwcm9kdWNlcjogMTIKdGltZXN0YW1wOiAxNzQwMTAwODU3OTA1MDAwCmxhdGxuZyB7CiAgbGF0aXR1ZGVfZTc6IDM1MTg1MjQ4OQogIGxvbmdpdHVkZV9lNzogMTI5MDUwMjI1MQp9CnJhZGl1czogMjA1MzA3NC41NDgwMzg1MjgKcHJvdmVuYW5jZTogNgo='}, {'domain': '.google.com', 'expiry': 1755652852, 'httpOnly': True, 'name': 'AEC', 'path': '/', 'sameSite': 'Lax', 'secure': True, 'value': 'AVcja2cRWPoSxMiDOHWNUaGpFEIziTM-4FGOessFblNqWW6SLlgWvHg_pg'}]\n",
      "추가된 값 : 아이스 아메리카노\n"
     ]
    }
   ],
   "execution_count": 24
  },
  {
   "metadata": {
    "ExecuteTime": {
     "end_time": "2025-02-21T01:22:43.752778Z",
     "start_time": "2025-02-21T01:22:36.505122Z"
    }
   },
   "cell_type": "code",
   "source": [
    "# 스크린 샷 저장\n",
    "from selenium import webdriver\n",
    "import time\n",
    "from selenium.webdriver.common.keys import Keys\n",
    "\n",
    "driver = webdriver.Chrome()\n",
    "driver.get(\"https://www.google.com\")\n",
    "time.sleep(3)\n",
    "\n",
    "# 스크린 샷 저장\n",
    "driver.save_screenshot(\"test_screenshot.png\")\n",
    "driver.quit()"
   ],
   "id": "d49efe60605eb637",
   "outputs": [],
   "execution_count": 25
  },
  {
   "metadata": {
    "ExecuteTime": {
     "end_time": "2025-02-21T01:31:02.761995Z",
     "start_time": "2025-02-21T01:30:54.096998Z"
    }
   },
   "cell_type": "code",
   "source": [
    "# 특정 요소가 로드가 될 때까지 대기\n",
    "from selenium import webdriver\n",
    "import time\n",
    "from selenium.webdriver.common.keys import Keys\n",
    "from selenium.webdriver.common.by import By\n",
    "from selenium.webdriver.support.ui import WebDriverWait\n",
    "from selenium.webdriver.support import expected_conditions as EC\n",
    "\n",
    "driver = webdriver.Chrome()\n",
    "driver.get(\"https://www.google.com\")\n",
    "\n",
    "# 특정 요소가 나타날 때까지 10초 대기\n",
    "search_box = WebDriverWait(driver, 10).until(EC.presence_of_element_located((By.NAME, \"q\")))\n",
    "search_box.send_keys(\"selenium 대기 테스트\")\n",
    "time.sleep(3)\n",
    "driver.quit()"
   ],
   "id": "ea569bbf40825398",
   "outputs": [],
   "execution_count": 27
  },
  {
   "metadata": {
    "ExecuteTime": {
     "end_time": "2025-02-21T01:36:07.121983Z",
     "start_time": "2025-02-21T01:35:58.336502Z"
    }
   },
   "cell_type": "code",
   "source": [
    "# 마우스 이벤트 조작(Action\n",
    "\n",
    "from selenium import webdriver\n",
    "import time\n",
    "from selenium.webdriver.common.keys import Keys\n",
    "from selenium.webdriver.common.by import By\n",
    "from selenium.webdriver.support.ui import WebDriverWait\n",
    "from selenium.webdriver.support import expected_conditions as EC\n",
    "from selenium.webdriver.common.action_chains import ActionChains\n",
    "\n",
    "driver = webdriver.Chrome()\n",
    "driver.get(\"https://www.google.com\")\n",
    "\n",
    "# 요소 찾기\n",
    "element = driver.find_element(\"link text\", \"Gmail\")\n",
    "\n",
    "# 마우스 오버\n",
    "actions = ActionChains(driver)\n",
    "actions.move_to_element(element).perform()\n",
    "\n",
    "time.sleep(3)\n",
    "driver.quit()"
   ],
   "id": "b6f610b7d5eee4cc",
   "outputs": [],
   "execution_count": 30
  },
  {
   "metadata": {
    "ExecuteTime": {
     "end_time": "2025-02-21T01:37:54.979645Z",
     "start_time": "2025-02-21T01:37:42.851018Z"
    }
   },
   "cell_type": "code",
   "source": [
    "# 입력값 삭제\n",
    "\n",
    "from selenium import webdriver\n",
    "import time\n",
    "from selenium.webdriver.common.keys import Keys\n",
    "from selenium.webdriver.common.by import By\n",
    "from selenium.webdriver.support.ui import WebDriverWait\n",
    "from selenium.webdriver.support import expected_conditions as EC\n",
    "from selenium.webdriver.common.action_chains import ActionChains\n",
    "\n",
    "driver = webdriver.Chrome()\n",
    "driver.get(\"https://www.google.com\")\n",
    "\n",
    "search_box = driver.find_element(\"name\", \"q\")\n",
    "search_box.send_keys(\"Selenium 입력 테스트\")\n",
    "time.sleep(3)\n",
    "search_box.clear()\n",
    "time.sleep(3)\n",
    "driver.quit()"
   ],
   "id": "abc161f68a674dcb",
   "outputs": [],
   "execution_count": 31
  },
  {
   "metadata": {
    "ExecuteTime": {
     "end_time": "2025-02-21T01:40:22.759711Z",
     "start_time": "2025-02-21T01:40:13.808677Z"
    }
   },
   "cell_type": "code",
   "source": [
    "# 브라우저 창 크기 조절\n",
    "\n",
    "from selenium import webdriver\n",
    "import time\n",
    "from selenium.webdriver.common.keys import Keys\n",
    "from selenium.webdriver.common.by import By\n",
    "from selenium.webdriver.support.ui import WebDriverWait\n",
    "from selenium.webdriver.support import expected_conditions as EC\n",
    "from selenium.webdriver.common.action_chains import ActionChains\n",
    "\n",
    "driver = webdriver.Chrome()\n",
    "driver.get(\"https://www.google.com\")\n",
    "\n",
    "# 브라우저 크기 조절\n",
    "driver.set_window_size(1500, 768)\n",
    "time.sleep(3)\n",
    "driver.quit()"
   ],
   "id": "5d25a172e2c2d0d0",
   "outputs": [],
   "execution_count": 32
  },
  {
   "metadata": {
    "ExecuteTime": {
     "end_time": "2025-02-21T01:50:16.132979Z",
     "start_time": "2025-02-21T01:50:02.905837Z"
    }
   },
   "cell_type": "code",
   "source": [
    "# 15 특정 요소 로드 때 까지 대기 후, 클릭 해보기.\n",
    "\n",
    "from selenium import webdriver\n",
    "import time\n",
    "from selenium.webdriver.common.keys import Keys\n",
    "from selenium.webdriver.common.by import By\n",
    "from selenium.webdriver.support.ui import WebDriverWait\n",
    "from selenium.webdriver.support import expected_conditions as EC\n",
    "from selenium.webdriver.common.action_chains import ActionChains\n",
    "\n",
    "driver = webdriver.Chrome()\n",
    "driver.get(\"https://the-internet.herokuapp.com/dynamic_loading/1\")\n",
    "time.sleep(3)\n",
    "\n",
    "# start 버튼이 클릭 가능할 때까지 10초 대기 후 클릭.\n",
    "start_button = WebDriverWait(driver, 10).until(\n",
    "    EC.element_to_be_clickable((By.CSS_SELECTOR, \"#start button\"))\n",
    ")\n",
    "start_button.click()\n",
    "\n",
    "#로딩이 끝나고 결과 텍스트가 보일 때까지 대기.\n",
    "finish_element = WebDriverWait(driver, 10).until(\n",
    "    EC.presence_of_element_located((By.CSS_SELECTOR, \"#finish\"))\n",
    ")\n",
    "print(f\"10초후 문자열 출력: {finish_element}\")\n",
    "time.sleep(3)\n",
    "driver.quit()"
   ],
   "id": "aceed3beca9c2a08",
   "outputs": [
    {
     "name": "stdout",
     "output_type": "stream",
     "text": [
      "10초후 문자열 출력: <selenium.webdriver.remote.webelement.WebElement (session=\"c82020a6561bdad4487b0837ba543357\", element=\"f.8064B80A6AFB6AB22FBDF5C5B3CAC5E4.d.6D811EC1DCC5816748BB67E091A1D4E0.e.7\")>\n"
     ]
    }
   ],
   "execution_count": 34
  },
  {
   "metadata": {
    "ExecuteTime": {
     "end_time": "2025-02-21T02:18:03.145975Z",
     "start_time": "2025-02-21T02:17:51.984762Z"
    }
   },
   "cell_type": "code",
   "source": [
    "#16 드래그 앤 드롭 (drag_and_drop())\n",
    "\n",
    "from selenium import webdriver\n",
    "import time\n",
    "from selenium.webdriver.common.keys import Keys\n",
    "from selenium.webdriver.common.by import By\n",
    "from selenium.webdriver.support.ui import WebDriverWait\n",
    "from selenium.webdriver.support import expected_conditions as EC\n",
    "from selenium.webdriver.common.action_chains import ActionChains\n",
    "\n",
    "driver = webdriver.Chrome()\n",
    "driver.get(\"https://jqueryui.com/droppable/\")\n",
    "time.sleep(3)\n",
    "\n",
    "#프레임 전환\n",
    "driver.switch_to.frame(0)\n",
    "\n",
    "#요소찾기.\n",
    "source = driver.find_element(\"id\", \"draggable\")\n",
    "target = driver.find_element(\"id\", \"droppable\")\n",
    "\n",
    "# 드래그 앤 드롭 실행.\n",
    "actions = ActionChains(driver)\n",
    "actions.drag_and_drop(source, target).perform()\n",
    "\n",
    "time.sleep(3)\n",
    "driver.quit()"
   ],
   "id": "2b58fb85939cb1ee",
   "outputs": [],
   "execution_count": 41
  },
  {
   "metadata": {
    "ExecuteTime": {
     "end_time": "2025-02-21T02:08:14.011590Z",
     "start_time": "2025-02-21T02:08:08.545910Z"
    }
   },
   "cell_type": "code",
   "source": [
    "from selenium import webdriver\n",
    "import time\n",
    "from selenium.webdriver.common.keys import Keys\n",
    "from selenium.webdriver.common.by import By\n",
    "from selenium.webdriver.support.ui import WebDriverWait\n",
    "from selenium.webdriver.support import expected_conditions as EC\n",
    "from selenium.webdriver.common.action_chains import ActionChains\n",
    "\n",
    "driver = webdriver.Chrome()\n",
    "driver.get(\"https://www.google.com\")\n",
    "\n",
    "html = driver.page_source\n",
    "print(html[:500])\n",
    "driver.quit()"
   ],
   "id": "5a6b9776bcac3342",
   "outputs": [
    {
     "name": "stdout",
     "output_type": "stream",
     "text": [
      "<html itemscope=\"\" itemtype=\"http://schema.org/WebPage\" lang=\"ko\"><head><meta charset=\"UTF-8\"><meta content=\"origin\" name=\"referrer\"><meta content=\"/images/branding/googleg/1x/googleg_standard_color_128dp.png\" itemprop=\"image\"><title>Google</title><script nonce=\"\">window._hst=Date.now();</script><script nonce=\"\">(function(){var _g={kEI:'COC3Z8CTCLenvr0Pyqqa2A4',kEXPI:'31',kBL:'xyLx',kOPI:89978449};(function(){var a;((a=window.google)==null?0:a.stvsc)?google.kEI=_g.kEI:window.google=_g;}).call(th\n"
     ]
    }
   ],
   "execution_count": 36
  },
  {
   "metadata": {
    "ExecuteTime": {
     "end_time": "2025-02-21T02:17:15.898493Z",
     "start_time": "2025-02-21T02:17:06.721552Z"
    }
   },
   "cell_type": "code",
   "source": [
    "from selenium import webdriver\n",
    "import time\n",
    "from selenium.webdriver.common.keys import Keys\n",
    "from selenium.webdriver.common.by import By\n",
    "from selenium.webdriver.support.ui import WebDriverWait\n",
    "from selenium.webdriver.support import expected_conditions as EC\n",
    "from selenium.webdriver.common.action_chains import ActionChains\n",
    "\n",
    "driver = webdriver.Chrome()\n",
    "driver.get(\"https://tus.io/demo.html\")\n",
    "\n",
    "upload = driver.find_element(\"xpath\", \"//input[@type='file']\")\n",
    "upload.send_keys(r\"D:\\PythonProjectCrawlerPractice\\ch3-Dynamic_Crawling\\test_screenshot.png\")\n",
    "time.sleep(5)\n",
    "driver.quit()"
   ],
   "id": "67a07b9f45fccb5d",
   "outputs": [],
   "execution_count": 40
  },
  {
   "metadata": {
    "ExecuteTime": {
     "end_time": "2025-02-21T02:42:39.914512Z",
     "start_time": "2025-02-21T02:42:30.311620Z"
    }
   },
   "cell_type": "code",
   "source": [
    "# [문제 1] 네이버 홈페이지에서 검색창에 'Selenium 자동화'\n",
    "# 입력 후 엔터 키를 누르는 코드를 작성하세요.\n",
    "\n",
    "from selenium import webdriver\n",
    "import time\n",
    "from selenium.webdriver.common.keys import Keys\n",
    "from selenium.webdriver.common.by import By\n",
    "from selenium.webdriver.support.ui import WebDriverWait\n",
    "from selenium.webdriver.support import expected_conditions as EC\n",
    "from selenium.webdriver.common.action_chains import ActionChains\n",
    "\n",
    "driver = webdriver.Chrome()\n",
    "driver.get(\"https://www.naver.com\")\n",
    "\n",
    "# start 버튼이 클릭 가능할 때까지 10초 대기 후 클릭.\n",
    "search_box = WebDriverWait(driver, 10).until(\n",
    "    EC.element_to_be_clickable((By.ID, \"query\"))\n",
    ")\n",
    "\n",
    "search_box.send_keys(\"selenium 자동화\")\n",
    "search_box.send_keys(Keys.RETURN)\n",
    "\n",
    "WebDriverWait(driver, 10).until(EC.presence_of_element_located((By.CLASS_NAME, \"api_subject_bx\")))\n",
    "\n",
    "time.sleep(3)\n",
    "driver.quit()"
   ],
   "id": "2106ae1329450db1",
   "outputs": [],
   "execution_count": 52
  },
  {
   "metadata": {
    "ExecuteTime": {
     "end_time": "2025-02-21T02:59:04.703261Z",
     "start_time": "2025-02-21T02:58:56.083084Z"
    }
   },
   "cell_type": "code",
   "source": [
    "# [문제 2] 네이버 홈페이지에서 '뉴스' 링크를 클릭하여\n",
    "# 뉴스 페이지로 이동하는 코드를 작성하세요.\n",
    "\n",
    "from selenium import webdriver\n",
    "import time\n",
    "from selenium.webdriver.common.keys import Keys\n",
    "from selenium.webdriver.common.by import By\n",
    "from selenium.webdriver.support.ui import WebDriverWait\n",
    "from selenium.webdriver.support import expected_conditions as EC\n",
    "from selenium.webdriver.common.action_chains import ActionChains\n",
    "\n",
    "driver = webdriver.Chrome()\n",
    "driver.get(\"https://www.naver.com\")\n",
    "\n",
    "# 뉴스 링크 클릭해서 뉴스 페이지로 이동\n",
    "news_link = WebDriverWait(driver, 10).until(EC.element_to_be_clickable((By.LINK_TEXT, \"뉴스\")))\n",
    "news_link.click()\n",
    "\n",
    "time.sleep(3)\n",
    "driver.quit()"
   ],
   "id": "2aa72d0fd0e63ad",
   "outputs": [],
   "execution_count": 2
  },
  {
   "metadata": {
    "ExecuteTime": {
     "end_time": "2025-02-21T03:07:24.662232Z",
     "start_time": "2025-02-21T03:07:05.850700Z"
    }
   },
   "cell_type": "code",
   "source": [
    "# [문제 3] 구글 검색에서 ' Selenium'을 검색한 후\n",
    "# 검색 결과 페이지의 HTML을 가져오는 코드를 작성하세요.\n",
    "\n",
    "import time\n",
    "from selenium import webdriver\n",
    "from selenium.webdriver.common.keys import Keys\n",
    "from selenium.webdriver.common.by import By\n",
    "from selenium.webdriver.support.ui import WebDriverWait\n",
    "from selenium.webdriver.support import expected_conditions as EC\n",
    "from selenium.common.exceptions import TimeoutException\n",
    "\n",
    "driver = webdriver.Chrome()\n",
    "driver.get(\"https://www.google.com\")\n",
    "\n",
    "# 검색창이 로드될 때까지 대기 후 검색어 입력\n",
    "search_box = WebDriverWait(driver, 10).until(\n",
    "    EC.presence_of_element_located((By.NAME, \"q\"))\n",
    ")\n",
    "search_box.send_keys(\"Selenium\")\n",
    "search_box.send_keys(Keys.RETURN)\n",
    "\n",
    "try:\n",
    "    # 'result-stats' 요소 대기 (구조가 달라질 경우 TimeoutException 발생)\n",
    "    WebDriverWait(driver, 10).until(\n",
    "        EC.presence_of_element_located((By.ID, \"result-stats\"))\n",
    "    )\n",
    "except TimeoutException:\n",
    "    print(\"검색 결과 통계 영역('result-stats')을 찾지 못했습니다. 다른 요소로 대기하거나 페이지 구조를 확인하세요.\")\n",
    "    # 예시: 결과 목록 중 하나의 요소를 기다리기\n",
    "    WebDriverWait(driver, 10).until(\n",
    "        EC.presence_of_element_located((By.CSS_SELECTOR, \"div.g\"))\n",
    "    )\n",
    "\n",
    "html = driver.page_source\n",
    "print(html[:500])\n",
    "time.sleep(3)\n",
    "driver.quit()"
   ],
   "id": "65342d1982b18a0a",
   "outputs": [
    {
     "name": "stdout",
     "output_type": "stream",
     "text": [
      "<html itemscope=\"\" itemtype=\"http://schema.org/SearchResultsPage\" lang=\"ko\"><head><meta charset=\"UTF-8\"><meta content=\"origin\" name=\"referrer\"><meta content=\"/images/branding/googleg/1x/googleg_standard_color_128dp.png\" itemprop=\"image\"><title>Selenium - Google 검색</title><script nonce=\"\">window._hst=Date.now();</script><script nonce=\"\">(function(){var b=window.addEventListener;window.addEventListener=function(a,c,d){a!==\"unload\"&&b(a,c,d)};}).call(this);(function(){var _g={kEI:'4-23Z__IMLexvr0P9\n"
     ]
    }
   ],
   "execution_count": 10
  },
  {
   "metadata": {
    "ExecuteTime": {
     "end_time": "2025-02-21T03:26:30.962207Z",
     "start_time": "2025-02-21T03:26:22.386161Z"
    }
   },
   "cell_type": "code",
   "source": [
    "# [문제 4] 특정 웹사이트에서 버튼이 활성화될 때까지\n",
    "# 10초 동안 기다렸다가 클릭하는 코드를 작성하세요.\n",
    "\n",
    "import time\n",
    "from selenium import webdriver\n",
    "from selenium.webdriver.common.by import By\n",
    "from selenium.webdriver.support.ui import WebDriverWait\n",
    "from selenium.webdriver.support import expected_conditions as EC\n",
    "from selenium.common.exceptions import TimeoutException\n",
    "\n",
    "# 웹드라이버 실행\n",
    "driver = webdriver.Chrome()\n",
    "driver.get(\"https://www.naver.com\")\n",
    "\n",
    "try:\n",
    "    # \"카페\" 링크가 클릭 가능할 때까지 최대 10초 대기\n",
    "    cafe_button = WebDriverWait(driver, 10).until(\n",
    "        EC.element_to_be_clickable((By.PARTIAL_LINK_TEXT, \"카페\"))  # \"카페\" 포함된 링크 찾기\n",
    "    )\n",
    "    cafe_button.click()\n",
    "except TimeoutException:\n",
    "    print(\"카페 버튼이 10초 내에 활성화되지 않았습니다.\")\n",
    "finally:\n",
    "    time.sleep(3)  # 페이지 로드 확인용 대기\n",
    "    driver.quit()"
   ],
   "id": "d8784a05d78ca60b",
   "outputs": [],
   "execution_count": 28
  },
  {
   "metadata": {
    "ExecuteTime": {
     "end_time": "2025-02-21T05:14:12.472268Z",
     "start_time": "2025-02-21T05:14:02.470177Z"
    }
   },
   "cell_type": "code",
   "source": [
    "# [문제 5]\n",
    "# 네이버에서 'Selenium 자동화' 검색 후,\n",
    "# 검색 결과 상위 5개의 제목을 출력하는 코드를 작성하세요.\n",
    "\n",
    "import time\n",
    "from selenium import webdriver\n",
    "from selenium.webdriver.common.by import By\n",
    "from selenium.webdriver.common.keys import Keys\n",
    "from selenium.webdriver.support.ui import WebDriverWait\n",
    "from selenium.webdriver.support import expected_conditions as EC\n",
    "\n",
    "# 웹드라이버 실행\n",
    "driver = webdriver.Chrome()\n",
    "driver.get(\"https://www.naver.com\")\n",
    "\n",
    "try:\n",
    "    # 검색창이 나타날 때까지 대기 후 찾기\n",
    "    search_box = WebDriverWait(driver, 10).until(\n",
    "        EC.presence_of_element_located((By.NAME, \"query\"))\n",
    "    )\n",
    "    # 검색어 입력 후 엔터\n",
    "    search_box.send_keys(\"Selenium 자동화\")\n",
    "    search_box.send_keys(Keys.RETURN)\n",
    "\n",
    "    # 검색 결과 로드 대기\n",
    "    WebDriverWait(driver, 10).until(\n",
    "        EC.presence_of_element_located((By.CLASS_NAME, \"link_tit\"))\n",
    "    )\n",
    "\n",
    "    # 검색 결과 상위 5개 제목 가져오기\n",
    "    titles = driver.find_elements(By.CLASS_NAME, \"link_tit\")[:5]\n",
    "\n",
    "    print(\"\\n[네이버 검색 결과 상위 5개 제목]\")\n",
    "    for idx, title in enumerate(titles, 1):\n",
    "        print(f\"{idx}. {title.text}\")\n",
    "\n",
    "except Exception as e:\n",
    "    print(\"오류 발생:\", e)\n",
    "\n",
    "finally:\n",
    "    time.sleep(3)  # 결과 확인을 위해 대기\n",
    "    driver.quit()\n"
   ],
   "id": "d25914f9eeaf284d",
   "outputs": [
    {
     "name": "stdout",
     "output_type": "stream",
     "text": [
      "\n",
      "[네이버 검색 결과 상위 5개 제목]\n",
      "1. Selenium 웹 자동화 - 강의\n",
      "2. 2.8 사이트 자동화하기 - selenium 사용법(1) - 비전공자를 위한 파이썬 완벽 가이드\n",
      "3. [Python] 자동 로그인, 구매 등 매크로 만들기 (selenium 사용)\n"
     ]
    }
   ],
   "execution_count": 32
  },
  {
   "metadata": {
    "ExecuteTime": {
     "end_time": "2025-02-21T03:22:34.779659Z",
     "start_time": "2025-02-21T03:22:15.074192Z"
    }
   },
   "cell_type": "code",
   "source": [
    "# [문제 6]\n",
    "# https://news.google.com 이용해보기.\n",
    "# 무한 스크롤이 있는 웹사이트에서 특정 개수만큼\n",
    "# 스크롤을 내린 후 스크린샷을 저장하는 코드를 작성하세요.\n",
    "# (600px , 내리면서, 각각 화면 캡쳐하기)\n",
    "\n",
    "import time\n",
    "from selenium import webdriver\n",
    "from selenium.webdriver.common.by import By\n",
    "\n",
    "# 웹드라이버 실행\n",
    "driver = webdriver.Chrome()\n",
    "driver.get(\"https://news.google.com\")\n",
    "\n",
    "# 페이지 로드 대기\n",
    "time.sleep(3)\n",
    "\n",
    "# 스크롤 간격 (600px)\n",
    "scroll_height = 600\n",
    "num_scrolls = 5  # 스크롤 횟수\n",
    "\n",
    "for i in range(num_scrolls):\n",
    "    # 현재 화면 스크린샷 저장\n",
    "    screenshot_filename = f\"google_news_scroll_{i+1}.png\"\n",
    "    driver.save_screenshot(screenshot_filename)\n",
    "    print(f\"스크린샷 저장: {screenshot_filename}\")\n",
    "\n",
    "    # 600px 아래로 스크롤\n",
    "    driver.execute_script(f\"window.scrollBy(0, {scroll_height});\")\n",
    "\n",
    "    # 스크롤 후 대기 (로딩 고려)\n",
    "    time.sleep(2)\n",
    "\n",
    "# 브라우저 종료\n",
    "driver.quit()\n"
   ],
   "id": "86bc7c70ae583820",
   "outputs": [
    {
     "name": "stdout",
     "output_type": "stream",
     "text": [
      "스크린샷 저장: google_news_scroll_1.png\n",
      "스크린샷 저장: google_news_scroll_2.png\n",
      "스크린샷 저장: google_news_scroll_3.png\n",
      "스크린샷 저장: google_news_scroll_4.png\n",
      "스크린샷 저장: google_news_scroll_5.png\n"
     ]
    }
   ],
   "execution_count": 25
  }
 ],
 "metadata": {
  "kernelspec": {
   "display_name": "Python 3",
   "language": "python",
   "name": "python3"
  },
  "language_info": {
   "codemirror_mode": {
    "name": "ipython",
    "version": 2
   },
   "file_extension": ".py",
   "mimetype": "text/x-python",
   "name": "python",
   "nbconvert_exporter": "python",
   "pygments_lexer": "ipython2",
   "version": "2.7.6"
  }
 },
 "nbformat": 4,
 "nbformat_minor": 5
}

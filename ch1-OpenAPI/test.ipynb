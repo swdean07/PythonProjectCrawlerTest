{
 "cells": [
  {
   "cell_type": "code",
   "id": "initial_id",
   "metadata": {
    "collapsed": true,
    "ExecuteTime": {
     "end_time": "2025-02-19T00:49:17.360734Z",
     "start_time": "2025-02-19T00:49:17.211967Z"
    }
   },
   "source": [
    "import urllib.request\n",
    "res = urllib.request.urlopen(\"http://www.naver.com/\")\n",
    "print(type(res))\n",
    "print(res.status)\n",
    "print(res.version)\n",
    "print(res.msg)\n",
    "res_header= res.getheaders()\n",
    "print(\"[ header 정보]----------\")\n",
    "for s in res_header:\n",
    "    print(s)"
   ],
   "outputs": [
    {
     "name": "stdout",
     "output_type": "stream",
     "text": [
      "<class 'http.client.HTTPResponse'>\n",
      "200\n",
      "11\n",
      "OK\n",
      "[ header 정보]----------\n",
      "('Date', 'Wed, 19 Feb 2025 00:49:14 GMT')\n",
      "('content-type', 'text/html; charset=UTF-8')\n",
      "('transfer-encoding', 'chunked')\n",
      "('set-cookie', 'PM_CK_loc=6a99d2fc1b5471d9d14cea36ec9cb8ccdffe959f69af8f291b9824dfdf3a7588; Expires=Thu, 20 Feb 2025 00:49:14 GMT; Path=/; HttpOnly')\n",
      "('cache-control', 'no-cache, no-store, must-revalidate')\n",
      "('pragma', 'no-cache')\n",
      "('x-frame-options', 'DENY')\n",
      "('x-xss-protection', '1; mode=block')\n",
      "('strict-transport-security', 'max-age=63072000; includeSubdomains')\n",
      "('referrer-policy', 'unsafe-url')\n",
      "('server', 'nfront')\n",
      "('connection', 'close')\n"
     ]
    }
   ],
   "execution_count": 1
  }
 ],
 "metadata": {
  "kernelspec": {
   "display_name": "Python 3",
   "language": "python",
   "name": "python3"
  },
  "language_info": {
   "codemirror_mode": {
    "name": "ipython",
    "version": 2
   },
   "file_extension": ".py",
   "mimetype": "text/x-python",
   "name": "python",
   "nbconvert_exporter": "python",
   "pygments_lexer": "ipython2",
   "version": "2.7.6"
  }
 },
 "nbformat": 4,
 "nbformat_minor": 5
}
